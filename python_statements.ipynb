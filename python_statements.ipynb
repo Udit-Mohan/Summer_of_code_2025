{
 "cells": [
  {
   "cell_type": "markdown",
   "id": "46ae942b-8b5f-4a69-a7d6-9c0d48dd0369",
   "metadata": {},
   "source": [
    "Use for, .split(), and if to create a Statement that will print out words that start with 's'"
   ]
  },
  {
   "cell_type": "code",
   "execution_count": 5,
   "id": "70bd9dd7-8929-496f-b625-beac3896781c",
   "metadata": {},
   "outputs": [],
   "source": [
    "def print_s(text):\n",
    "    arr = text.split(' ')\n",
    "    for i in range(len(arr)):\n",
    "        if(arr[i][0] == 's' or arr[i][0] == 'S'):\n",
    "            print(arr[i])"
   ]
  },
  {
   "cell_type": "code",
   "execution_count": 7,
   "id": "b6029f90-5252-412e-974d-d5d1824fef41",
   "metadata": {},
   "outputs": [
    {
     "name": "stdout",
     "output_type": "stream",
     "text": [
      "start\n",
      "s\n",
      "sentence\n"
     ]
    }
   ],
   "source": [
    "print_s( 'Print only the words that start with s in this sentence')"
   ]
  },
  {
   "cell_type": "markdown",
   "id": "daec04b1-a98e-4e84-9307-0a1619ccfadf",
   "metadata": {},
   "source": [
    "Use range() to print all the even numbers from 0 to 10"
   ]
  },
  {
   "cell_type": "code",
   "execution_count": 9,
   "id": "fdd5071d-464e-47d7-a5af-8540c49dabc3",
   "metadata": {},
   "outputs": [
    {
     "name": "stdout",
     "output_type": "stream",
     "text": [
      "0\n",
      "2\n",
      "4\n",
      "6\n",
      "8\n",
      "10\n"
     ]
    }
   ],
   "source": [
    "for i in range(11):\n",
    "    if(i % 2 ==0):\n",
    "        print(i)"
   ]
  },
  {
   "cell_type": "markdown",
   "id": "3164f447-156e-4f06-82ae-85aaed995437",
   "metadata": {},
   "source": [
    "`Use a List Comprehension to create a list of all numbers between 1 and 50 that are divisible by 3`"
   ]
  },
  {
   "cell_type": "code",
   "execution_count": 13,
   "id": "6e4ae57e-76ac-473a-88a6-561df2199b71",
   "metadata": {},
   "outputs": [
    {
     "data": {
      "text/plain": [
       "[3, 6, 9, 12, 15, 18, 21, 24, 27, 30, 33, 36, 39, 42, 45, 48]"
      ]
     },
     "execution_count": 13,
     "metadata": {},
     "output_type": "execute_result"
    }
   ],
   "source": [
    "[number for number in range(1,50) if number % 3 == 0]"
   ]
  },
  {
   "cell_type": "markdown",
   "id": "6840c994-b829-4bea-ba5a-30dcffa7b59c",
   "metadata": {},
   "source": [
    "Go through the string below and if the length of a word is even print \"even!\""
   ]
  },
  {
   "cell_type": "code",
   "execution_count": 17,
   "id": "848c9652-b79b-49b1-b3df-e4fe86b9c8b4",
   "metadata": {},
   "outputs": [],
   "source": [
    "def print_even(text):\n",
    "    text_split = text.split(' ')\n",
    "    for i in range(len(text_split)):\n",
    "        if(len(text_split[i]) % 2 == 0):\n",
    "            print(text_split[i])"
   ]
  },
  {
   "cell_type": "code",
   "execution_count": 18,
   "id": "c441ddf9-2144-4d0b-a175-449e2883de17",
   "metadata": {},
   "outputs": [
    {
     "name": "stdout",
     "output_type": "stream",
     "text": [
      "word\n",
      "in\n",
      "this\n",
      "sentence\n",
      "that\n",
      "an\n",
      "even\n",
      "number\n",
      "of\n"
     ]
    }
   ],
   "source": [
    "print_even('Print every word in this sentence that has an even number of letters')"
   ]
  },
  {
   "cell_type": "markdown",
   "id": "fd7cdaff-baeb-49c6-8d8e-ab267db3c9b7",
   "metadata": {},
   "source": [
    " Write a program that prints the integers from 1 to 100. But for multiples of three print \"Fizz\" instead of the number, and for the multiples of five print \"Buzz\". For numbers which are multiples of both three and five print \"FizzBuzz\""
   ]
  },
  {
   "cell_type": "code",
   "execution_count": 20,
   "id": "2cbd0ff1-7241-4c37-9495-d210986da755",
   "metadata": {},
   "outputs": [
    {
     "name": "stdout",
     "output_type": "stream",
     "text": [
      "1\n",
      "2\n",
      "FIZZ\n",
      "4\n",
      "BUZZ\n",
      "FIZZ\n",
      "7\n",
      "8\n",
      "FIZZ\n",
      "BUZZ\n",
      "11\n",
      "FIZZ\n",
      "13\n",
      "14\n",
      "FIZZBUZZ\n",
      "16\n",
      "17\n",
      "FIZZ\n",
      "19\n",
      "BUZZ\n",
      "FIZZ\n",
      "22\n",
      "23\n",
      "FIZZ\n",
      "BUZZ\n",
      "26\n",
      "FIZZ\n",
      "28\n",
      "29\n",
      "FIZZBUZZ\n",
      "31\n",
      "32\n",
      "FIZZ\n",
      "34\n",
      "BUZZ\n",
      "FIZZ\n",
      "37\n",
      "38\n",
      "FIZZ\n",
      "BUZZ\n",
      "41\n",
      "FIZZ\n",
      "43\n",
      "44\n",
      "FIZZBUZZ\n",
      "46\n",
      "47\n",
      "FIZZ\n",
      "49\n",
      "BUZZ\n",
      "FIZZ\n",
      "52\n",
      "53\n",
      "FIZZ\n",
      "BUZZ\n",
      "56\n",
      "FIZZ\n",
      "58\n",
      "59\n",
      "FIZZBUZZ\n",
      "61\n",
      "62\n",
      "FIZZ\n",
      "64\n",
      "BUZZ\n",
      "FIZZ\n",
      "67\n",
      "68\n",
      "FIZZ\n",
      "BUZZ\n",
      "71\n",
      "FIZZ\n",
      "73\n",
      "74\n",
      "FIZZBUZZ\n",
      "76\n",
      "77\n",
      "FIZZ\n",
      "79\n",
      "BUZZ\n",
      "FIZZ\n",
      "82\n",
      "83\n",
      "FIZZ\n",
      "BUZZ\n",
      "86\n",
      "FIZZ\n",
      "88\n",
      "89\n",
      "FIZZBUZZ\n",
      "91\n",
      "92\n",
      "FIZZ\n",
      "94\n",
      "BUZZ\n",
      "FIZZ\n",
      "97\n",
      "98\n",
      "FIZZ\n",
      "BUZZ\n"
     ]
    }
   ],
   "source": [
    "for i in range(1,101):\n",
    "    if(i % 3 == 0 and i % 5 == 0):\n",
    "        print('FIZZBUZZ')\n",
    "    elif(i % 5 == 0):\n",
    "        print('BUZZ')\n",
    "    elif(i % 3 == 0 ):\n",
    "        print('FIZZ')\n",
    "    else:\n",
    "        print(i)"
   ]
  },
  {
   "cell_type": "markdown",
   "id": "1f0ee85a-9917-40e3-8cdb-7c766f97381c",
   "metadata": {},
   "source": [
    "Use List Comprehension to create a list of the first letters of every word in the string below"
   ]
  },
  {
   "cell_type": "code",
   "execution_count": 24,
   "id": "bad58570-f027-4592-b6e4-21ca8958ee18",
   "metadata": {},
   "outputs": [],
   "source": [
    "st = 'Create a list of the first letters of every word in this string'"
   ]
  },
  {
   "cell_type": "code",
   "execution_count": 25,
   "id": "c33dfe7c-5001-479a-871c-92a28a58e774",
   "metadata": {},
   "outputs": [
    {
     "data": {
      "text/plain": [
       "['C', 'a', 'l', 'o', 't', 'f', 'l', 'o', 'e', 'w', 'i', 't', 's']"
      ]
     },
     "execution_count": 25,
     "metadata": {},
     "output_type": "execute_result"
    }
   ],
   "source": [
    "[word[0] for word in st.split()]"
   ]
  },
  {
   "cell_type": "code",
   "execution_count": null,
   "id": "1c903e68-1d5c-41c2-abf9-ed87452681ba",
   "metadata": {},
   "outputs": [],
   "source": []
  }
 ],
 "metadata": {
  "kernelspec": {
   "display_name": "Python 3 (ipykernel)",
   "language": "python",
   "name": "python3"
  },
  "language_info": {
   "codemirror_mode": {
    "name": "ipython",
    "version": 3
   },
   "file_extension": ".py",
   "mimetype": "text/x-python",
   "name": "python",
   "nbconvert_exporter": "python",
   "pygments_lexer": "ipython3",
   "version": "3.12.4"
  }
 },
 "nbformat": 4,
 "nbformat_minor": 5
}
