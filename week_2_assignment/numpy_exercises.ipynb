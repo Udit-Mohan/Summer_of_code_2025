{
 "cells": [
  {
   "cell_type": "code",
   "execution_count": 1,
   "id": "b386efed-78a8-4ae1-9d2e-95acb825b44b",
   "metadata": {},
   "outputs": [],
   "source": [
    "import numpy as np"
   ]
  },
  {
   "cell_type": "code",
   "execution_count": 9,
   "id": "b13b9a73-84dd-4b5e-869e-2b90d44e88cd",
   "metadata": {},
   "outputs": [],
   "source": [
    "arr = np.array([[1,2,4],[7,13,21]])"
   ]
  },
  {
   "cell_type": "code",
   "execution_count": 11,
   "id": "378539b1-9838-4aca-9db8-f219e667ead9",
   "metadata": {},
   "outputs": [
    {
     "name": "stdout",
     "output_type": "stream",
     "text": [
      "[[ 1  2  4]\n",
      " [ 7 13 21]]\n"
     ]
    }
   ],
   "source": [
    "print(arr)"
   ]
  },
  {
   "cell_type": "code",
   "execution_count": 12,
   "id": "ebce7bd6-81ff-4a35-9714-2c4e3113f3ce",
   "metadata": {},
   "outputs": [
    {
     "name": "stdout",
     "output_type": "stream",
     "text": [
      "Shape :  (2, 3)\n"
     ]
    }
   ],
   "source": [
    "print(\"Shape : \", arr.shape)"
   ]
  },
  {
   "cell_type": "code",
   "execution_count": 15,
   "id": "702373fc-f4a6-45bd-b37f-a5e266186735",
   "metadata": {},
   "outputs": [],
   "source": [
    "n_rows = 2\n",
    "n_columns = 3\n",
    "arr2 = np.random.random((n_rows,n_columns))"
   ]
  },
  {
   "cell_type": "code",
   "execution_count": 16,
   "id": "ee9376e7-5ef8-4845-9fc7-65de5742df0d",
   "metadata": {},
   "outputs": [
    {
     "name": "stdout",
     "output_type": "stream",
     "text": [
      "[[0.93796746 0.54478742 0.58912106]\n",
      " [0.00773798 0.39284777 0.40818447]]\n"
     ]
    }
   ],
   "source": [
    "print(arr2)"
   ]
  },
  {
   "cell_type": "code",
   "execution_count": 20,
   "id": "5bf3948d-f256-4c12-ac8c-af15d449127b",
   "metadata": {},
   "outputs": [],
   "source": [
    "zero_arr = np.zeros((4,5,2))"
   ]
  },
  {
   "cell_type": "code",
   "execution_count": 21,
   "id": "aca97b6b-215a-4080-94f4-f14d9a72ebe3",
   "metadata": {},
   "outputs": [
    {
     "name": "stdout",
     "output_type": "stream",
     "text": [
      "[[[0. 0.]\n",
      "  [0. 0.]\n",
      "  [0. 0.]\n",
      "  [0. 0.]\n",
      "  [0. 0.]]\n",
      "\n",
      " [[0. 0.]\n",
      "  [0. 0.]\n",
      "  [0. 0.]\n",
      "  [0. 0.]\n",
      "  [0. 0.]]\n",
      "\n",
      " [[0. 0.]\n",
      "  [0. 0.]\n",
      "  [0. 0.]\n",
      "  [0. 0.]\n",
      "  [0. 0.]]\n",
      "\n",
      " [[0. 0.]\n",
      "  [0. 0.]\n",
      "  [0. 0.]\n",
      "  [0. 0.]\n",
      "  [0. 0.]]]\n"
     ]
    }
   ],
   "source": [
    "print(arr3)"
   ]
  },
  {
   "cell_type": "code",
   "execution_count": 22,
   "id": "7d267b32-1a5a-44ab-aa90-c541b1dc35f2",
   "metadata": {},
   "outputs": [],
   "source": [
    "ones_arr = np.ones((4,5,2))"
   ]
  },
  {
   "cell_type": "code",
   "execution_count": 23,
   "id": "fd73139a-902f-45be-a920-d06104539078",
   "metadata": {},
   "outputs": [
    {
     "name": "stdout",
     "output_type": "stream",
     "text": [
      "[[[1. 1.]\n",
      "  [1. 1.]\n",
      "  [1. 1.]\n",
      "  [1. 1.]\n",
      "  [1. 1.]]\n",
      "\n",
      " [[1. 1.]\n",
      "  [1. 1.]\n",
      "  [1. 1.]\n",
      "  [1. 1.]\n",
      "  [1. 1.]]\n",
      "\n",
      " [[1. 1.]\n",
      "  [1. 1.]\n",
      "  [1. 1.]\n",
      "  [1. 1.]\n",
      "  [1. 1.]]\n",
      "\n",
      " [[1. 1.]\n",
      "  [1. 1.]\n",
      "  [1. 1.]\n",
      "  [1. 1.]\n",
      "  [1. 1.]]]\n"
     ]
    }
   ],
   "source": [
    "print(ones_arr)"
   ]
  },
  {
   "cell_type": "code",
   "execution_count": 24,
   "id": "d1523896-ceab-4c11-8258-784ab6e9d045",
   "metadata": {},
   "outputs": [],
   "source": [
    "y = np.array([[1, 2, 3],\n",
    "              [4, 5, 6]])"
   ]
  },
  {
   "cell_type": "code",
   "execution_count": 26,
   "id": "6de5f751-1e2e-4b04-a2b2-06ec31018d29",
   "metadata": {},
   "outputs": [
    {
     "data": {
      "text/plain": [
       "2"
      ]
     },
     "execution_count": 26,
     "metadata": {},
     "output_type": "execute_result"
    }
   ],
   "source": [
    "y.ndim"
   ]
  },
  {
   "cell_type": "code",
   "execution_count": 27,
   "id": "15dfdfd1-0129-417a-8ad2-e3d1c1ef2e2b",
   "metadata": {},
   "outputs": [
    {
     "data": {
      "text/plain": [
       "(2, 3)"
      ]
     },
     "execution_count": 27,
     "metadata": {},
     "output_type": "execute_result"
    }
   ],
   "source": [
    "y.shape"
   ]
  },
  {
   "cell_type": "code",
   "execution_count": 32,
   "id": "0ebcf370-35b1-4788-aad2-0ed5393b2355",
   "metadata": {},
   "outputs": [],
   "source": [
    "y_transpose = y.reshape(3,2)"
   ]
  },
  {
   "cell_type": "code",
   "execution_count": 33,
   "id": "fe9c0813-893d-4ae7-87b2-f2bc85571fd2",
   "metadata": {},
   "outputs": [
    {
     "name": "stdout",
     "output_type": "stream",
     "text": [
      "[[1 2]\n",
      " [3 4]\n",
      " [5 6]]\n"
     ]
    }
   ],
   "source": [
    "print(y_transpose)"
   ]
  },
  {
   "cell_type": "code",
   "execution_count": 34,
   "id": "15086e47-e13b-4bfc-8581-ec6594814370",
   "metadata": {},
   "outputs": [],
   "source": [
    "y_flat = y.reshape(6,1)"
   ]
  },
  {
   "cell_type": "code",
   "execution_count": 35,
   "id": "fecf7af2-f9a3-40be-866c-42fa55fa2581",
   "metadata": {},
   "outputs": [
    {
     "name": "stdout",
     "output_type": "stream",
     "text": [
      "[[1]\n",
      " [2]\n",
      " [3]\n",
      " [4]\n",
      " [5]\n",
      " [6]]\n"
     ]
    }
   ],
   "source": [
    "print(y_flat)"
   ]
  },
  {
   "cell_type": "code",
   "execution_count": null,
   "id": "90e7fcae-e86f-4eb3-900f-bd968ae0d1b9",
   "metadata": {},
   "outputs": [],
   "source": []
  }
 ],
 "metadata": {
  "kernelspec": {
   "display_name": "Python 3 (ipykernel)",
   "language": "python",
   "name": "python3"
  },
  "language_info": {
   "codemirror_mode": {
    "name": "ipython",
    "version": 3
   },
   "file_extension": ".py",
   "mimetype": "text/x-python",
   "name": "python",
   "nbconvert_exporter": "python",
   "pygments_lexer": "ipython3",
   "version": "3.12.4"
  }
 },
 "nbformat": 4,
 "nbformat_minor": 5
}
