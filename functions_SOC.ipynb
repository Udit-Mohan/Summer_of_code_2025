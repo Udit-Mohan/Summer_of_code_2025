{
 "cells": [
  {
   "cell_type": "markdown",
   "id": "3ac445e1-96be-4127-a015-2e4d90cde67d",
   "metadata": {},
   "source": [
    "# WarmUp\n"
   ]
  },
  {
   "cell_type": "markdown",
   "id": "abb0fe7a-ccab-4b96-a12a-a115fdf33941",
   "metadata": {},
   "source": [
    "LESSER OF TWO EVENS"
   ]
  },
  {
   "cell_type": "code",
   "execution_count": 1,
   "id": "1a9db031-cb16-42f8-b802-1d79ac01da50",
   "metadata": {},
   "outputs": [],
   "source": [
    "\n",
    "def lesser_of_two_evens(a,b):\n",
    "    if(a%2 == 0 and b%2 == 0):\n",
    "        if(a < b):\n",
    "            print(a)\n",
    "        else :\n",
    "            print(b)\n",
    "    else : \n",
    "        if(a > b):\n",
    "            print(a)\n",
    "        else : \n",
    "            print(b)"
   ]
  },
  {
   "cell_type": "code",
   "execution_count": 2,
   "id": "d7c640bd-2054-4b7f-8771-c18c226e5b94",
   "metadata": {},
   "outputs": [
    {
     "name": "stdout",
     "output_type": "stream",
     "text": [
      "2\n"
     ]
    }
   ],
   "source": [
    "lesser_of_two_evens(2,4)"
   ]
  },
  {
   "cell_type": "code",
   "execution_count": 3,
   "id": "8659951c-2616-4afb-b973-79ec88f9ed5d",
   "metadata": {},
   "outputs": [
    {
     "name": "stdout",
     "output_type": "stream",
     "text": [
      "5\n"
     ]
    }
   ],
   "source": [
    "lesser_of_two_evens(2,5)"
   ]
  },
  {
   "cell_type": "markdown",
   "id": "688d08fd-8d69-4470-ab44-6515b693ee79",
   "metadata": {},
   "source": [
    "ANIMAL CRACKERS"
   ]
  },
  {
   "cell_type": "code",
   "execution_count": 4,
   "id": "6e555950-d839-4472-919c-6c913e5af9c9",
   "metadata": {},
   "outputs": [],
   "source": [
    "\n",
    "def animal_crackers(text):\n",
    "    first , second = text.split(\" \")\n",
    "    if(first[0]==second[0]):\n",
    "        print(True)\n",
    "    else :\n",
    "        print(False)"
   ]
  },
  {
   "cell_type": "code",
   "execution_count": 5,
   "id": "37b8a217-684d-4ea5-ba23-8bbb722ccbe3",
   "metadata": {},
   "outputs": [
    {
     "name": "stdout",
     "output_type": "stream",
     "text": [
      "True\n"
     ]
    }
   ],
   "source": [
    "animal_crackers('Levelheaded Llama')"
   ]
  },
  {
   "cell_type": "code",
   "execution_count": 6,
   "id": "c3d92716-e89f-4bce-bc9d-f7fe1e3cc345",
   "metadata": {},
   "outputs": [
    {
     "name": "stdout",
     "output_type": "stream",
     "text": [
      "False\n"
     ]
    }
   ],
   "source": [
    "animal_crackers('Crazy Kangaroo')"
   ]
  },
  {
   "cell_type": "markdown",
   "id": "41a049e1-5e4a-4b47-8e38-51c185e62a31",
   "metadata": {},
   "source": [
    "MAKES TWENTY\n"
   ]
  },
  {
   "cell_type": "code",
   "execution_count": 7,
   "id": "29686e03-5a78-4738-84c6-7b04414e7db6",
   "metadata": {},
   "outputs": [],
   "source": [
    "def makes_twenty(a,b):\n",
    "    return a == 20 or b== 20 or a+b ==20"
   ]
  },
  {
   "cell_type": "code",
   "execution_count": 8,
   "id": "4462d9a1-e563-4724-8942-010e1c5d719d",
   "metadata": {},
   "outputs": [
    {
     "name": "stdout",
     "output_type": "stream",
     "text": [
      "True\n"
     ]
    }
   ],
   "source": [
    "print(makes_twenty(20,10))"
   ]
  },
  {
   "cell_type": "code",
   "execution_count": 9,
   "id": "42a92fd0-3848-4605-811f-241ff2eb54c2",
   "metadata": {},
   "outputs": [
    {
     "name": "stdout",
     "output_type": "stream",
     "text": [
      "False\n"
     ]
    }
   ],
   "source": [
    "print(makes_twenty(2,3))"
   ]
  },
  {
   "cell_type": "markdown",
   "id": "5d133aa4-16f2-49a0-ba2d-391bcabff362",
   "metadata": {},
   "source": [
    "# LEVEL 1 PROBLEMS"
   ]
  },
  {
   "cell_type": "markdown",
   "id": "e730559a-1fbb-488c-ad1f-153bd74006cc",
   "metadata": {},
   "source": [
    "OLD MACDONALD"
   ]
  },
  {
   "cell_type": "code",
   "execution_count": 10,
   "id": "cb415854-022d-4c38-a828-0bad46fc72e1",
   "metadata": {},
   "outputs": [],
   "source": [
    "def old_macdonald(name):\n",
    "    \n",
    "    for i in range(len(name)) :\n",
    "        if(i == 0 or i== 3):\n",
    "            print(chr(ord(name[i]) - 32), end = '')\n",
    "        else :\n",
    "            print(name[i], end ='')\n",
    "    "
   ]
  },
  {
   "cell_type": "code",
   "execution_count": 11,
   "id": "e28d6330-aedb-4e46-b6fa-8bd5393bb8e0",
   "metadata": {},
   "outputs": [
    {
     "name": "stdout",
     "output_type": "stream",
     "text": [
      "MacDonald"
     ]
    }
   ],
   "source": [
    "old_macdonald('macdonald')"
   ]
  },
  {
   "cell_type": "markdown",
   "id": "758ab8d2-aedb-4fa7-a4d1-0c28a02fc5f7",
   "metadata": {},
   "source": [
    "MASTER YODA"
   ]
  },
  {
   "cell_type": "code",
   "execution_count": 12,
   "id": "e25035b2-3974-4b9f-be24-83c23d4fdb01",
   "metadata": {},
   "outputs": [],
   "source": [
    "def master_yoda(sentence):\n",
    "     a = sentence.split(' ')\n",
    "     a.reverse()\n",
    "     sentence = \" \".join(a)\n",
    "     return sentence"
   ]
  },
  {
   "cell_type": "code",
   "execution_count": 13,
   "id": "61feed61-bdc4-4a9e-8f8c-52dd5d4c0bf7",
   "metadata": {},
   "outputs": [
    {
     "name": "stdout",
     "output_type": "stream",
     "text": [
      "home am I\n"
     ]
    }
   ],
   "source": [
    "print(master_yoda('I am home'))"
   ]
  },
  {
   "cell_type": "code",
   "execution_count": 14,
   "id": "ed325971-b66b-475e-abdd-9da1c5bf40e1",
   "metadata": {},
   "outputs": [
    {
     "name": "stdout",
     "output_type": "stream",
     "text": [
      "ready are We\n"
     ]
    }
   ],
   "source": [
    "print(master_yoda('We are ready'))"
   ]
  },
  {
   "cell_type": "markdown",
   "id": "72ad7690-5546-40b0-841e-d982e8b00898",
   "metadata": {},
   "source": [
    "ALMOST THERE"
   ]
  },
  {
   "cell_type": "code",
   "execution_count": 15,
   "id": "37b2d691-4f80-45c2-ae7c-bd26b7031e78",
   "metadata": {},
   "outputs": [],
   "source": [
    "def  almost_there(n):\n",
    "  return((n-90) <= 20 and (110 - n) <= 20) or ((n - 190) <= 20 and (210 - n) <= 20)"
   ]
  },
  {
   "cell_type": "code",
   "execution_count": 16,
   "id": "51a893db-47ab-407a-b3a7-c69b6bcf6ca5",
   "metadata": {},
   "outputs": [
    {
     "name": "stdout",
     "output_type": "stream",
     "text": [
      "True\n"
     ]
    }
   ],
   "source": [
    "print(almost_there(104))"
   ]
  },
  {
   "cell_type": "code",
   "execution_count": 17,
   "id": "074eb44c-ed93-41d5-abf1-3f60d9715b0e",
   "metadata": {},
   "outputs": [
    {
     "name": "stdout",
     "output_type": "stream",
     "text": [
      "False\n"
     ]
    }
   ],
   "source": [
    "print(almost_there(150))"
   ]
  },
  {
   "cell_type": "code",
   "execution_count": 18,
   "id": "fb570373-8651-4934-947b-ceb8e30e465a",
   "metadata": {},
   "outputs": [
    {
     "name": "stdout",
     "output_type": "stream",
     "text": [
      "True\n"
     ]
    }
   ],
   "source": [
    "print(almost_there(209))"
   ]
  },
  {
   "cell_type": "markdown",
   "id": "e7441cba-673b-41ba-b7cd-21b9e34b9cf9",
   "metadata": {},
   "source": [
    "# LEVEL 2 PROBLEMS"
   ]
  },
  {
   "cell_type": "markdown",
   "id": "2c0c0ee4-9f1f-4b60-b58d-e5be4864a6af",
   "metadata": {},
   "source": [
    "FIND 33"
   ]
  },
  {
   "cell_type": "code",
   "execution_count": 44,
   "id": "f8814abc-f9b5-437f-9fd3-8c465171c811",
   "metadata": {},
   "outputs": [],
   "source": [
    "def has_33(nums):\n",
    "   \n",
    "    for i in range (len(nums)-1) : \n",
    "        if(nums[i]==3 and nums[i+1]==3):\n",
    "            a = 1\n",
    "            return True\n",
    "    \n",
    "    return False"
   ]
  },
  {
   "cell_type": "code",
   "execution_count": 45,
   "id": "fe498067-8057-4639-84cd-2bfd005020a6",
   "metadata": {},
   "outputs": [
    {
     "data": {
      "text/plain": [
       "True"
      ]
     },
     "execution_count": 45,
     "metadata": {},
     "output_type": "execute_result"
    }
   ],
   "source": [
    "has_33([1, 3, 3])"
   ]
  },
  {
   "cell_type": "code",
   "execution_count": 46,
   "id": "1a4b553a-2b69-46f7-80a0-ce6303f739f3",
   "metadata": {},
   "outputs": [
    {
     "data": {
      "text/plain": [
       "False"
      ]
     },
     "execution_count": 46,
     "metadata": {},
     "output_type": "execute_result"
    }
   ],
   "source": [
    "has_33([1, 3, 1, 3])"
   ]
  },
  {
   "cell_type": "code",
   "execution_count": 47,
   "id": "9a1d571b-1c41-40d5-8de6-7284c6e8b0da",
   "metadata": {},
   "outputs": [
    {
     "data": {
      "text/plain": [
       "False"
      ]
     },
     "execution_count": 47,
     "metadata": {},
     "output_type": "execute_result"
    }
   ],
   "source": [
    "has_33([3, 1, 3])"
   ]
  },
  {
   "cell_type": "markdown",
   "id": "3a7386a5-9f00-44b6-8acf-a8501161e2f8",
   "metadata": {},
   "source": [
    "PAPER DOLL"
   ]
  },
  {
   "cell_type": "code",
   "execution_count": 58,
   "id": "0500e50a-3838-4291-a5a9-47b5d1a97a62",
   "metadata": {},
   "outputs": [],
   "source": [
    "def paper_doll(text):\n",
    "    result = \"\"\n",
    "    for i in range(len(text)):\n",
    "        for j  in range(3):\n",
    "            result += text[i]\n",
    "    return result        \n",
    "            "
   ]
  },
  {
   "cell_type": "code",
   "execution_count": 59,
   "id": "92cbf32b-0a25-442e-960c-b0d63054b864",
   "metadata": {},
   "outputs": [
    {
     "data": {
      "text/plain": [
       "'HHHeeellllllooo'"
      ]
     },
     "execution_count": 59,
     "metadata": {},
     "output_type": "execute_result"
    }
   ],
   "source": [
    "paper_doll('Hello')"
   ]
  },
  {
   "cell_type": "code",
   "execution_count": 62,
   "id": "da1af6ea-2b84-4f5c-a56c-55fb4eda27e7",
   "metadata": {},
   "outputs": [
    {
     "data": {
      "text/plain": [
       "'MMMiiissssssiiissssssiiippppppiii'"
      ]
     },
     "execution_count": 62,
     "metadata": {},
     "output_type": "execute_result"
    }
   ],
   "source": [
    "paper_doll('Mississippi')"
   ]
  },
  {
   "cell_type": "markdown",
   "id": "77e3062a-3031-4c9b-bd59-8f8fbbc2a956",
   "metadata": {},
   "source": [
    "BLACKJACK"
   ]
  },
  {
   "cell_type": "code",
   "execution_count": 7,
   "id": "bbccf9d9-5d34-4b6b-9277-4ebb8cc1d143",
   "metadata": {},
   "outputs": [],
   "source": [
    "def black_jack(a,b,c):\n",
    "    if(a+b+c <= 21):\n",
    "        return a+b+c\n",
    "    elif 11 in (a,b,c) and (a+b+c) - 10 <= 21 :\n",
    "        \n",
    "        return (a+b+c - 10)\n",
    "    else :\n",
    "        return 'BUST'\n",
    "            "
   ]
  },
  {
   "cell_type": "code",
   "execution_count": 8,
   "id": "a1684bcf-d0e2-4467-8c84-2ed0ebde3647",
   "metadata": {},
   "outputs": [
    {
     "data": {
      "text/plain": [
       "18"
      ]
     },
     "execution_count": 8,
     "metadata": {},
     "output_type": "execute_result"
    }
   ],
   "source": [
    "black_jack(5,6,7)"
   ]
  },
  {
   "cell_type": "code",
   "execution_count": 9,
   "id": "9d696d15-13ee-49f7-a87a-d3abcdaae103",
   "metadata": {},
   "outputs": [
    {
     "data": {
      "text/plain": [
       "'BUST'"
      ]
     },
     "execution_count": 9,
     "metadata": {},
     "output_type": "execute_result"
    }
   ],
   "source": [
    "black_jack(9,9,9)"
   ]
  },
  {
   "cell_type": "code",
   "execution_count": 10,
   "id": "6e2a62c4-0f31-455f-9f28-4388b2c422f4",
   "metadata": {},
   "outputs": [
    {
     "data": {
      "text/plain": [
       "19"
      ]
     },
     "execution_count": 10,
     "metadata": {},
     "output_type": "execute_result"
    }
   ],
   "source": [
    "black_jack(9,9,11)"
   ]
  },
  {
   "cell_type": "markdown",
   "id": "532f1baa-8929-4a0d-9064-0954ef40557d",
   "metadata": {},
   "source": [
    "SUMMER OF '69"
   ]
  },
  {
   "cell_type": "code",
   "execution_count": 43,
   "id": "9fed73b0-edbc-4e92-a813-6cc1e9f237d8",
   "metadata": {},
   "outputs": [],
   "source": [
    "def summer_69(arr):\n",
    "    index = []\n",
    "    total_sum =0\n",
    "    for i in range(len(arr)) :\n",
    "        if(arr[i]==6 or arr[i] == 9):\n",
    "            index.append(i)\n",
    "    if(len(index)!=0):\n",
    "        new_arr =  arr[index[0]:index[1]+1]\n",
    "        total_sum = 0\n",
    "        ex_sum=0\n",
    "        for i in range(len(arr)):\n",
    "            total_sum += arr[i]\n",
    "        for i in range(len(new_arr)):\n",
    "            ex_sum += new_arr[i]\n",
    "    \n",
    "        return total_sum - ex_sum\n",
    "   \n",
    "    else :\n",
    "        for i in range(len(arr)):\n",
    "            total_sum += arr[i]\n",
    "        return total_sum"
   ]
  },
  {
   "cell_type": "code",
   "execution_count": 45,
   "id": "8c845890-cd62-4195-9186-54d701c82390",
   "metadata": {},
   "outputs": [
    {
     "data": {
      "text/plain": [
       "9"
      ]
     },
     "execution_count": 45,
     "metadata": {},
     "output_type": "execute_result"
    }
   ],
   "source": [
    "summer_69([1, 3, 5])"
   ]
  },
  {
   "cell_type": "code",
   "execution_count": 44,
   "id": "e7841393-e05c-4c9e-aa38-f097d86f310c",
   "metadata": {},
   "outputs": [
    {
     "data": {
      "text/plain": [
       "9"
      ]
     },
     "execution_count": 44,
     "metadata": {},
     "output_type": "execute_result"
    }
   ],
   "source": [
    "summer_69([4, 5, 6, 7, 8, 9])"
   ]
  },
  {
   "cell_type": "code",
   "execution_count": 46,
   "id": "d5a26c5d-7ddd-4801-aed2-636054047561",
   "metadata": {},
   "outputs": [
    {
     "data": {
      "text/plain": [
       "14"
      ]
     },
     "execution_count": 46,
     "metadata": {},
     "output_type": "execute_result"
    }
   ],
   "source": [
    "summer_69([2, 1, 6, 9, 11])"
   ]
  },
  {
   "cell_type": "markdown",
   "id": "aaf1c6fa-17cd-412a-a1c7-d229b02714b6",
   "metadata": {},
   "source": [
    "       "
   ]
  },
  {
   "cell_type": "code",
   "execution_count": null,
   "id": "2aa3c7c7-74c1-4802-b5cf-48aa9914b3bd",
   "metadata": {},
   "outputs": [],
   "source": []
  }
 ],
 "metadata": {
  "kernelspec": {
   "display_name": "Python 3 (ipykernel)",
   "language": "python",
   "name": "python3"
  },
  "language_info": {
   "codemirror_mode": {
    "name": "ipython",
    "version": 3
   },
   "file_extension": ".py",
   "mimetype": "text/x-python",
   "name": "python",
   "nbconvert_exporter": "python",
   "pygments_lexer": "ipython3",
   "version": "3.12.4"
  }
 },
 "nbformat": 4,
 "nbformat_minor": 5
}
